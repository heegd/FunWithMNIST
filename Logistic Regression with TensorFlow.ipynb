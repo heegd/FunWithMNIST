{
 "cells": [
  {
   "cell_type": "markdown",
   "metadata": {},
   "source": [
    "# Logistic Regression with TensorFlow"
   ]
  },
  {
   "cell_type": "markdown",
   "metadata": {},
   "source": [
    "## Imports"
   ]
  },
  {
   "cell_type": "code",
   "execution_count": 1,
   "metadata": {},
   "outputs": [],
   "source": [
    "from tensorflow.examples.tutorials.mnist import input_data\n",
    "import tensorflow as tf\n",
    "from tensorflow.python.framework import ops\n",
    "\n",
    "# This is just to make TensorFlow use only one of my GPUs.\n",
    "import os\n",
    "os.environ[\"CUDA_VISIBLE_DEVICES\"]=\"0\""
   ]
  },
  {
   "cell_type": "markdown",
   "metadata": {},
   "source": [
    "## Load the Data"
   ]
  },
  {
   "cell_type": "code",
   "execution_count": 2,
   "metadata": {},
   "outputs": [
    {
     "name": "stdout",
     "output_type": "stream",
     "text": [
      "Extracting MNIST_data/train-images-idx3-ubyte.gz\n",
      "Extracting MNIST_data/train-labels-idx1-ubyte.gz\n",
      "Extracting MNIST_data/t10k-images-idx3-ubyte.gz\n",
      "Extracting MNIST_data/t10k-labels-idx1-ubyte.gz\n"
     ]
    }
   ],
   "source": [
    "mnist_data = input_data.read_data_sets(\"MNIST_data/\", one_hot=True)"
   ]
  },
  {
   "cell_type": "markdown",
   "metadata": {},
   "source": [
    "## Create the Model\n",
    "**For Logistic Regression recall that:**  \n",
    "A linear function is first calculated.  \n",
    "**z = xw + b**  \n",
    "Where **w** is a tensor of weights, **x** is a tensor of features, and **b** is a tensor of biases.  \n",
    "\n",
    "\n",
    "Then the output of the linear function is run through an activation function.  \n",
    "**a = g(z)**  \n",
    "Where **g()** is the activation function.\n",
    "\n",
    "\n",
    "With TensorFlow the activation of the last linear function is built in to the cost function.  So all we have to implement here is the linear function that calculates z."
   ]
  },
  {
   "cell_type": "code",
   "execution_count": 3,
   "metadata": {
    "collapsed": true
   },
   "outputs": [],
   "source": [
    "def build_model(x_tensor, num_features, num_labels):\n",
    "    # Initialize tensors for weights and biases.\n",
    "    with tf.variable_scope('ParameterInitialization', reuse=tf.AUTO_REUSE):\n",
    "        w_tensor = tf.get_variable(name='w', \n",
    "                                   shape=(num_features, num_labels), \n",
    "                                   initializer=tf.contrib.layers.xavier_initializer())\n",
    "        \n",
    "        b_tensor = tf.get_variable(name='b', \n",
    "                                   shape=(1, num_labels), \n",
    "                                   initializer=tf.zeros_initializer())\n",
    "        \n",
    "    # The linear function\n",
    "    with tf.variable_scope('LinearFunction', reuse=tf.AUTO_REUSE):\n",
    "        z_tensor = tf.matmul(x_tensor, w_tensor) + b_tensor\n",
    "        \n",
    "    return z_tensor"
   ]
  },
  {
   "cell_type": "markdown",
   "metadata": {},
   "source": [
    "## Define the Cost\n",
    "The measurement of how how well the parameters fit the training values during training.  The goal is the minimize this difference.\n",
    "\n",
    "\n",
    "In TensorFlow, the last activation function is built into the cost.  Here, we are using the softmax activation which gives a probability of each output class being true.  All the probabilities sum to 1 for each example.\n",
    "\n",
    "\n",
    "The cost function we are using is cross entropy, which measures the distance between the tensor of probabilities from the output of the softmax and the actual values, y."
   ]
  },
  {
   "cell_type": "code",
   "execution_count": 4,
   "metadata": {
    "collapsed": true
   },
   "outputs": [],
   "source": [
    "def build_cost(z_tensor, y_tensor):\n",
    "    with tf.variable_scope('CostFunction'):\n",
    "        cost_tensor = tf.nn.softmax_cross_entropy_with_logits(logits=z_tensor, labels=y_tensor)\n",
    "        cost_tensor = tf.reduce_mean(cost_tensor)\n",
    "        \n",
    "    return cost_tensor"
   ]
  },
  {
   "cell_type": "markdown",
   "metadata": {},
   "source": [
    "## Define the Optimizer\n",
    "Chose which optimization algorithm to use.  This is the algorithm that adjusts the weights and biases each execution to bring the cost down.  TensorFlow comes with a good selection of pre-built optimizers.  We'll use Adam here."
   ]
  },
  {
   "cell_type": "code",
   "execution_count": 5,
   "metadata": {
    "collapsed": true
   },
   "outputs": [],
   "source": [
    "def build_optimizer(cost_tensor, learning_rate):\n",
    "    with tf.variable_scope('Optimizer'):\n",
    "        optimizer_tensor = tf.train.AdamOptimizer(learning_rate).minimize(cost_tensor)\n",
    "        \n",
    "    return optimizer_tensor"
   ]
  },
  {
   "cell_type": "markdown",
   "metadata": {},
   "source": [
    "## Define the Accuracy Measurement\n",
    "The measurement of accurate the model is at predicting outcomes."
   ]
  },
  {
   "cell_type": "code",
   "execution_count": 6,
   "metadata": {
    "collapsed": true
   },
   "outputs": [],
   "source": [
    "def build_accuracy(y_hat_tensor, y_tensor):\n",
    "    with tf.variable_scope('AccuracyFunction'):\n",
    "        # A bool tensor of where the predictions matched the labels.\n",
    "        correct_predictions_tensor = tf.equal(tf.argmax(y_hat_tensor, axis=1), \n",
    "                                              tf.argmax(y_tensor, axis=1))\n",
    "        \n",
    "        # Convert the true/false values into 0 or 1.\n",
    "        correct_predictions_tensor = tf.cast(correct_predictions_tensor, tf.float32)\n",
    "        \n",
    "        # The mean of the correct_preditions_tensor will now give us the accuracy.\n",
    "        accuracy_tensor = tf.reduce_mean(correct_predictions_tensor)\n",
    "        \n",
    "    return accuracy_tensor"
   ]
  },
  {
   "cell_type": "markdown",
   "metadata": {},
   "source": [
    "## Train Function\n",
    "Put the pieces together to build the model, input features, and train it."
   ]
  },
  {
   "cell_type": "code",
   "execution_count": 7,
   "metadata": {
    "collapsed": true
   },
   "outputs": [],
   "source": [
    "def train(learning_rate=0.0001, iterations=1000, batch_size=100):\n",
    "    ops.reset_default_graph()\n",
    "    \n",
    "    x_tensor = tf.placeholder(tf.float32, [None, 784])\n",
    "    y_tensor = tf.placeholder(tf.float32, [None, 10])\n",
    "    \n",
    "    z_tensor = build_model(x_tensor, 784, 10)\n",
    "    cost_tensor = build_cost(z_tensor, y_tensor)\n",
    "    optimizer_tensor = build_optimizer(cost_tensor, learning_rate)\n",
    "    accuracy_tensor = build_accuracy(z_tensor, y_tensor)\n",
    "    \n",
    "    with tf.Session() as sess:\n",
    "        sess.run(tf.global_variables_initializer())\n",
    "        \n",
    "        for i in range(1, iterations + 1):\n",
    "            x, y = mnist_data.train.next_batch(batch_size)\n",
    "            accuracy, cost, _ = sess.run([accuracy_tensor, cost_tensor, optimizer_tensor], \n",
    "                                         feed_dict={x_tensor:x, y_tensor:y})\n",
    "            \n",
    "            if i % 100 == 0:\n",
    "                print('Iteration {0} cost: {1}, accuracy: {2}'.format(i, cost, accuracy))"
   ]
  },
  {
   "cell_type": "markdown",
   "metadata": {},
   "source": [
    "## Try it out!\n",
    "With logistic regression the train accuracy is in the low 90's for the MNIST dataset.  More complex models can get much better accuracies."
   ]
  },
  {
   "cell_type": "code",
   "execution_count": 8,
   "metadata": {
    "scrolled": false
   },
   "outputs": [
    {
     "name": "stdout",
     "output_type": "stream",
     "text": [
      "Iteration 100 cost: 1.9049204587936401, accuracy: 0.4099999964237213\n",
      "Iteration 200 cost: 1.561523675918579, accuracy: 0.6420000195503235\n",
      "Iteration 300 cost: 1.3152207136154175, accuracy: 0.746999979019165\n",
      "Iteration 400 cost: 1.1565009355545044, accuracy: 0.781000018119812\n",
      "Iteration 500 cost: 1.0288691520690918, accuracy: 0.7940000295639038\n",
      "Iteration 600 cost: 0.9443337321281433, accuracy: 0.8029999732971191\n",
      "Iteration 700 cost: 0.8769931793212891, accuracy: 0.8180000185966492\n",
      "Iteration 800 cost: 0.8077770471572876, accuracy: 0.8259999752044678\n",
      "Iteration 900 cost: 0.7378003597259521, accuracy: 0.847000002861023\n",
      "Iteration 1000 cost: 0.7188477516174316, accuracy: 0.8410000205039978\n",
      "Iteration 1100 cost: 0.6753692030906677, accuracy: 0.8420000076293945\n",
      "Iteration 1200 cost: 0.6445215344429016, accuracy: 0.8479999899864197\n",
      "Iteration 1300 cost: 0.5717931389808655, accuracy: 0.8809999823570251\n",
      "Iteration 1400 cost: 0.5806944370269775, accuracy: 0.8569999933242798\n",
      "Iteration 1500 cost: 0.5597135424613953, accuracy: 0.8709999918937683\n",
      "Iteration 1600 cost: 0.5636367797851562, accuracy: 0.8640000224113464\n",
      "Iteration 1700 cost: 0.5276318788528442, accuracy: 0.871999979019165\n",
      "Iteration 1800 cost: 0.4963088035583496, accuracy: 0.8809999823570251\n",
      "Iteration 1900 cost: 0.5108879208564758, accuracy: 0.8840000033378601\n",
      "Iteration 2000 cost: 0.5042386054992676, accuracy: 0.875\n",
      "Iteration 2100 cost: 0.4759918451309204, accuracy: 0.8809999823570251\n",
      "Iteration 2200 cost: 0.4193374514579773, accuracy: 0.8989999890327454\n",
      "Iteration 2300 cost: 0.484923392534256, accuracy: 0.8730000257492065\n",
      "Iteration 2400 cost: 0.4301536977291107, accuracy: 0.8920000195503235\n",
      "Iteration 2500 cost: 0.4257853329181671, accuracy: 0.8859999775886536\n",
      "Iteration 2600 cost: 0.40261876583099365, accuracy: 0.8989999890327454\n",
      "Iteration 2700 cost: 0.4319396913051605, accuracy: 0.878000020980835\n",
      "Iteration 2800 cost: 0.41136273741722107, accuracy: 0.8920000195503235\n",
      "Iteration 2900 cost: 0.4483473002910614, accuracy: 0.8799999952316284\n",
      "Iteration 3000 cost: 0.428249329328537, accuracy: 0.8840000033378601\n",
      "Iteration 3100 cost: 0.40363526344299316, accuracy: 0.9049999713897705\n",
      "Iteration 3200 cost: 0.3387264311313629, accuracy: 0.9120000004768372\n",
      "Iteration 3300 cost: 0.40301018953323364, accuracy: 0.9010000228881836\n",
      "Iteration 3400 cost: 0.33680158853530884, accuracy: 0.9070000052452087\n",
      "Iteration 3500 cost: 0.38484668731689453, accuracy: 0.8999999761581421\n",
      "Iteration 3600 cost: 0.3617236018180847, accuracy: 0.906000018119812\n",
      "Iteration 3700 cost: 0.36649924516677856, accuracy: 0.9089999794960022\n",
      "Iteration 3800 cost: 0.36461687088012695, accuracy: 0.8960000276565552\n",
      "Iteration 3900 cost: 0.39022237062454224, accuracy: 0.8889999985694885\n",
      "Iteration 4000 cost: 0.3984309136867523, accuracy: 0.8859999775886536\n",
      "Iteration 4100 cost: 0.4070490896701813, accuracy: 0.8880000114440918\n",
      "Iteration 4200 cost: 0.332121878862381, accuracy: 0.9139999747276306\n",
      "Iteration 4300 cost: 0.35808542370796204, accuracy: 0.9100000262260437\n",
      "Iteration 4400 cost: 0.3983323276042938, accuracy: 0.8820000290870667\n",
      "Iteration 4500 cost: 0.37659838795661926, accuracy: 0.8970000147819519\n",
      "Iteration 4600 cost: 0.3155522644519806, accuracy: 0.9129999876022339\n",
      "Iteration 4700 cost: 0.2942940592765808, accuracy: 0.9240000247955322\n",
      "Iteration 4800 cost: 0.3381049335002899, accuracy: 0.9160000085830688\n",
      "Iteration 4900 cost: 0.32421475648880005, accuracy: 0.9129999876022339\n",
      "Iteration 5000 cost: 0.30685433745384216, accuracy: 0.9169999957084656\n",
      "CPU times: user 25.5 s, sys: 6.54 s, total: 32 s\n",
      "Wall time: 38.2 s\n"
     ]
    }
   ],
   "source": [
    "%%time\n",
    "train(iterations=5000, batch_size=1000)"
   ]
  }
 ],
 "metadata": {
  "kernelspec": {
   "display_name": "Python [conda root]",
   "language": "python",
   "name": "conda-root-py"
  },
  "language_info": {
   "codemirror_mode": {
    "name": "ipython",
    "version": 3
   },
   "file_extension": ".py",
   "mimetype": "text/x-python",
   "name": "python",
   "nbconvert_exporter": "python",
   "pygments_lexer": "ipython3",
   "version": "3.5.3"
  }
 },
 "nbformat": 4,
 "nbformat_minor": 2
}
