{
 "cells": [
  {
   "cell_type": "markdown",
   "metadata": {},
   "source": [
    "# Neural Network with Keras"
   ]
  },
  {
   "cell_type": "markdown",
   "metadata": {},
   "source": [
    "## Imports"
   ]
  },
  {
   "cell_type": "code",
   "execution_count": 1,
   "metadata": {},
   "outputs": [
    {
     "name": "stderr",
     "output_type": "stream",
     "text": [
      "Using TensorFlow backend.\n"
     ]
    }
   ],
   "source": [
    "import keras\n",
    "from keras.models import Sequential\n",
    "from keras.layers import Dense, Activation\n",
    "from keras.datasets import mnist\n",
    "from keras.utils import np_utils"
   ]
  },
  {
   "cell_type": "markdown",
   "metadata": {},
   "source": [
    "## Load the Data"
   ]
  },
  {
   "cell_type": "code",
   "execution_count": 2,
   "metadata": {},
   "outputs": [],
   "source": [
    "(x_train, y_train), _ = mnist.load_data()\n",
    "\n",
    "# Flatten the 28x28 pixel arrays to 784\n",
    "x_train = x_train.reshape(x_train.shape[0], 28*28)\n",
    "\n",
    "# We need to one-hot encode the labels\n",
    "y_train = np_utils.to_categorical(y_train, 10)"
   ]
  },
  {
   "cell_type": "markdown",
   "metadata": {},
   "source": [
    "## Create the Model\n",
    "With Keras, you can build a neural network with very few lines of code.  Here we define a model, add operations to it, and then compile it."
   ]
  },
  {
   "cell_type": "code",
   "execution_count": 3,
   "metadata": {
    "scrolled": false
   },
   "outputs": [],
   "source": [
    "model = Sequential()\n",
    "\n",
    "model.add(Dense(100, input_dim=784))\n",
    "model.add(Activation('relu'))\n",
    "model.add(Dense(500))\n",
    "model.add(Activation('relu'))\n",
    "model.add(Dense(100))\n",
    "model.add(Activation('relu'))\n",
    "model.add(Dense(10))\n",
    "model.add(Activation('softmax'))\n",
    "\n",
    "model.compile(loss=keras.losses.categorical_crossentropy,\n",
    "              optimizer=keras.optimizers.Adam(),\n",
    "              metrics=['accuracy'])"
   ]
  },
  {
   "cell_type": "markdown",
   "metadata": {},
   "source": [
    "## Try it out!"
   ]
  },
  {
   "cell_type": "code",
   "execution_count": 4,
   "metadata": {},
   "outputs": [
    {
     "name": "stdout",
     "output_type": "stream",
     "text": [
      "Epoch 1/50\n",
      "60000/60000 [==============================] - 1s 24us/step - loss: 4.1152 - acc: 0.7091\n",
      "Epoch 2/50\n",
      "60000/60000 [==============================] - 0s 8us/step - loss: 0.8379 - acc: 0.9168\n",
      "Epoch 3/50\n",
      "60000/60000 [==============================] - 0s 8us/step - loss: 0.4062 - acc: 0.9435\n",
      "Epoch 4/50\n",
      "60000/60000 [==============================] - 0s 8us/step - loss: 0.2461 - acc: 0.9558\n",
      "Epoch 5/50\n",
      "60000/60000 [==============================] - 0s 8us/step - loss: 0.1587 - acc: 0.9670\n",
      "Epoch 6/50\n",
      "60000/60000 [==============================] - 0s 8us/step - loss: 0.1034 - acc: 0.9767\n",
      "Epoch 7/50\n",
      "60000/60000 [==============================] - 0s 8us/step - loss: 0.0730 - acc: 0.9833\n",
      "Epoch 8/50\n",
      "60000/60000 [==============================] - 0s 8us/step - loss: 0.0556 - acc: 0.9873\n",
      "Epoch 9/50\n",
      "60000/60000 [==============================] - 0s 8us/step - loss: 0.0412 - acc: 0.9914\n",
      "Epoch 10/50\n",
      "60000/60000 [==============================] - 0s 8us/step - loss: 0.0319 - acc: 0.9939\n",
      "Epoch 11/50\n",
      "60000/60000 [==============================] - 0s 8us/step - loss: 0.0258 - acc: 0.9961\n",
      "Epoch 12/50\n",
      "60000/60000 [==============================] - 0s 8us/step - loss: 0.0216 - acc: 0.9976\n",
      "Epoch 13/50\n",
      "60000/60000 [==============================] - 0s 8us/step - loss: 0.0189 - acc: 0.9986\n",
      "Epoch 14/50\n",
      "60000/60000 [==============================] - 0s 8us/step - loss: 0.0176 - acc: 0.9989\n",
      "Epoch 15/50\n",
      "60000/60000 [==============================] - 0s 8us/step - loss: 0.0169 - acc: 0.9990\n",
      "Epoch 16/50\n",
      "60000/60000 [==============================] - 0s 8us/step - loss: 0.0164 - acc: 0.9990\n",
      "Epoch 17/50\n",
      "60000/60000 [==============================] - 0s 8us/step - loss: 0.0162 - acc: 0.9990\n",
      "Epoch 18/50\n",
      "60000/60000 [==============================] - 0s 8us/step - loss: 0.0161 - acc: 0.9990\n",
      "Epoch 19/50\n",
      "60000/60000 [==============================] - 0s 8us/step - loss: 0.0161 - acc: 0.9990\n",
      "Epoch 20/50\n",
      "60000/60000 [==============================] - 0s 8us/step - loss: 0.0160 - acc: 0.9990\n",
      "Epoch 21/50\n",
      "60000/60000 [==============================] - 0s 8us/step - loss: 0.0160 - acc: 0.9990\n",
      "Epoch 22/50\n",
      "60000/60000 [==============================] - 0s 8us/step - loss: 0.0159 - acc: 0.9990\n",
      "Epoch 23/50\n",
      "60000/60000 [==============================] - 0s 8us/step - loss: 0.0159 - acc: 0.9990\n",
      "Epoch 24/50\n",
      "60000/60000 [==============================] - 0s 8us/step - loss: 0.0159 - acc: 0.9990\n",
      "Epoch 25/50\n",
      "60000/60000 [==============================] - 0s 8us/step - loss: 0.0159 - acc: 0.9990\n",
      "Epoch 26/50\n",
      "60000/60000 [==============================] - 0s 8us/step - loss: 0.0158 - acc: 0.9990\n",
      "Epoch 27/50\n",
      "60000/60000 [==============================] - 0s 8us/step - loss: 0.0158 - acc: 0.9990\n",
      "Epoch 28/50\n",
      "60000/60000 [==============================] - 0s 8us/step - loss: 0.0158 - acc: 0.9990\n",
      "Epoch 29/50\n",
      "60000/60000 [==============================] - 0s 8us/step - loss: 0.0158 - acc: 0.9990\n",
      "Epoch 30/50\n",
      "60000/60000 [==============================] - 0s 8us/step - loss: 0.0158 - acc: 0.9990\n",
      "Epoch 31/50\n",
      "60000/60000 [==============================] - 0s 8us/step - loss: 0.0158 - acc: 0.9990\n",
      "Epoch 32/50\n",
      "60000/60000 [==============================] - 0s 8us/step - loss: 0.0158 - acc: 0.9990\n",
      "Epoch 33/50\n",
      "60000/60000 [==============================] - 0s 8us/step - loss: 0.0157 - acc: 0.9990\n",
      "Epoch 34/50\n",
      "60000/60000 [==============================] - 0s 8us/step - loss: 0.0157 - acc: 0.9990\n",
      "Epoch 35/50\n",
      "60000/60000 [==============================] - 0s 8us/step - loss: 0.0157 - acc: 0.9990\n",
      "Epoch 36/50\n",
      "60000/60000 [==============================] - 0s 8us/step - loss: 0.0157 - acc: 0.9990\n",
      "Epoch 37/50\n",
      "60000/60000 [==============================] - 0s 8us/step - loss: 0.0157 - acc: 0.9990\n",
      "Epoch 38/50\n",
      "60000/60000 [==============================] - 0s 8us/step - loss: 0.0157 - acc: 0.9990\n",
      "Epoch 39/50\n",
      "60000/60000 [==============================] - 0s 8us/step - loss: 0.0157 - acc: 0.9990\n",
      "Epoch 40/50\n",
      "60000/60000 [==============================] - 0s 8us/step - loss: 0.0157 - acc: 0.9990\n",
      "Epoch 41/50\n",
      "60000/60000 [==============================] - 0s 8us/step - loss: 0.0157 - acc: 0.9990\n",
      "Epoch 42/50\n",
      "60000/60000 [==============================] - 0s 8us/step - loss: 0.0157 - acc: 0.9990\n",
      "Epoch 43/50\n",
      "60000/60000 [==============================] - 0s 8us/step - loss: 0.0157 - acc: 0.9990\n",
      "Epoch 44/50\n",
      "60000/60000 [==============================] - 0s 8us/step - loss: 0.0157 - acc: 0.9990\n",
      "Epoch 45/50\n",
      "60000/60000 [==============================] - 0s 8us/step - loss: 0.0157 - acc: 0.9990\n",
      "Epoch 46/50\n",
      "60000/60000 [==============================] - 0s 8us/step - loss: 0.0157 - acc: 0.9990\n",
      "Epoch 47/50\n",
      "60000/60000 [==============================] - 0s 8us/step - loss: 0.0157 - acc: 0.9990\n",
      "Epoch 48/50\n",
      "60000/60000 [==============================] - 0s 8us/step - loss: 0.0157 - acc: 0.9990\n",
      "Epoch 49/50\n",
      "60000/60000 [==============================] - 0s 8us/step - loss: 0.0157 - acc: 0.9990\n",
      "Epoch 50/50\n",
      "60000/60000 [==============================] - 0s 8us/step - loss: 0.0156 - acc: 0.9990\n",
      "CPU times: user 20.5 s, sys: 2.24 s, total: 22.7 s\n",
      "Wall time: 25.3 s\n"
     ]
    }
   ],
   "source": [
    "%%time\n",
    "history = model.fit(x_train, y_train, epochs=50, batch_size=1000)"
   ]
  }
 ],
 "metadata": {
  "kernelspec": {
   "display_name": "Python [conda root]",
   "language": "python",
   "name": "conda-root-py"
  },
  "language_info": {
   "codemirror_mode": {
    "name": "ipython",
    "version": 3
   },
   "file_extension": ".py",
   "mimetype": "text/x-python",
   "name": "python",
   "nbconvert_exporter": "python",
   "pygments_lexer": "ipython3",
   "version": "3.5.3"
  }
 },
 "nbformat": 4,
 "nbformat_minor": 2
}
