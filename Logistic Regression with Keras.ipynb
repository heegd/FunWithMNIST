{
 "cells": [
  {
   "cell_type": "markdown",
   "metadata": {},
   "source": [
    "# Logistic Regression with Keras"
   ]
  },
  {
   "cell_type": "markdown",
   "metadata": {},
   "source": [
    "## Imports"
   ]
  },
  {
   "cell_type": "code",
   "execution_count": 1,
   "metadata": {},
   "outputs": [
    {
     "name": "stderr",
     "output_type": "stream",
     "text": [
      "Using TensorFlow backend.\n"
     ]
    }
   ],
   "source": [
    "import keras\n",
    "from keras.models import Sequential\n",
    "from keras.layers import Dense, Activation\n",
    "from keras.datasets import mnist\n",
    "from keras.utils import np_utils"
   ]
  },
  {
   "cell_type": "markdown",
   "metadata": {},
   "source": [
    "## Load the Data"
   ]
  },
  {
   "cell_type": "code",
   "execution_count": 2,
   "metadata": {
    "collapsed": true
   },
   "outputs": [],
   "source": [
    "(x_train, y_train), _ = mnist.load_data()\n",
    "\n",
    "# Flatten the 28x28 pixel arrays to 784\n",
    "x_train = x_train.reshape(x_train.shape[0], 28*28)\n",
    "\n",
    "# We need to one-hot encode the labels\n",
    "y_train = np_utils.to_categorical(y_train, 10)"
   ]
  },
  {
   "cell_type": "markdown",
   "metadata": {},
   "source": [
    "## Create the Model\n",
    "With Keras, you can build a neural network with very few lines of code.  Here we define a model, add operations to it, and then compile it."
   ]
  },
  {
   "cell_type": "code",
   "execution_count": 3,
   "metadata": {
    "collapsed": true
   },
   "outputs": [],
   "source": [
    "model = Sequential()\n",
    "\n",
    "model.add(Dense(10, input_dim=784))\n",
    "model.add(Activation('softmax'))\n",
    "\n",
    "model.compile(loss=keras.losses.categorical_crossentropy,\n",
    "              optimizer=keras.optimizers.Adam(),\n",
    "              metrics=['accuracy'])"
   ]
  },
  {
   "cell_type": "markdown",
   "metadata": {},
   "source": [
    "## Try it out!"
   ]
  },
  {
   "cell_type": "code",
   "execution_count": 4,
   "metadata": {},
   "outputs": [
    {
     "name": "stdout",
     "output_type": "stream",
     "text": [
      "Epoch 1/50\n",
      "60000/60000 [==============================] - 1s 23us/step - loss: 8.4475 - acc: 0.4641\n",
      "Epoch 2/50\n",
      "60000/60000 [==============================] - 0s 7us/step - loss: 4.8857 - acc: 0.6895\n",
      "Epoch 3/50\n",
      "60000/60000 [==============================] - 0s 7us/step - loss: 4.3267 - acc: 0.7253\n",
      "Epoch 4/50\n",
      "60000/60000 [==============================] - 0s 8us/step - loss: 3.8405 - acc: 0.7551\n",
      "Epoch 5/50\n",
      "60000/60000 [==============================] - 0s 7us/step - loss: 3.0092 - acc: 0.8068\n",
      "Epoch 6/50\n",
      "60000/60000 [==============================] - 0s 8us/step - loss: 2.7746 - acc: 0.8222\n",
      "Epoch 7/50\n",
      "60000/60000 [==============================] - 0s 7us/step - loss: 2.7132 - acc: 0.8257\n",
      "Epoch 8/50\n",
      "60000/60000 [==============================] - 0s 7us/step - loss: 2.6475 - acc: 0.8306\n",
      "Epoch 9/50\n",
      "60000/60000 [==============================] - 0s 7us/step - loss: 2.6120 - acc: 0.8327\n",
      "Epoch 10/50\n",
      "60000/60000 [==============================] - 0s 8us/step - loss: 2.5895 - acc: 0.8345\n",
      "Epoch 11/50\n",
      "60000/60000 [==============================] - 0s 7us/step - loss: 2.5447 - acc: 0.8372\n",
      "Epoch 12/50\n",
      "60000/60000 [==============================] - 0s 7us/step - loss: 2.5387 - acc: 0.8373\n",
      "Epoch 13/50\n",
      "60000/60000 [==============================] - 0s 7us/step - loss: 2.5336 - acc: 0.8383\n",
      "Epoch 14/50\n",
      "60000/60000 [==============================] - 0s 7us/step - loss: 2.5030 - acc: 0.8401\n",
      "Epoch 15/50\n",
      "60000/60000 [==============================] - 0s 7us/step - loss: 2.4616 - acc: 0.8432\n",
      "Epoch 16/50\n",
      "60000/60000 [==============================] - 0s 7us/step - loss: 2.4515 - acc: 0.8438\n",
      "Epoch 17/50\n",
      "60000/60000 [==============================] - 0s 7us/step - loss: 2.4524 - acc: 0.8438\n",
      "Epoch 18/50\n",
      "60000/60000 [==============================] - 0s 7us/step - loss: 2.4470 - acc: 0.8437\n",
      "Epoch 19/50\n",
      "60000/60000 [==============================] - 0s 7us/step - loss: 2.4271 - acc: 0.8451\n",
      "Epoch 20/50\n",
      "60000/60000 [==============================] - 0s 7us/step - loss: 2.4555 - acc: 0.8434\n",
      "Epoch 21/50\n",
      "60000/60000 [==============================] - 0s 7us/step - loss: 2.4064 - acc: 0.8464\n",
      "Epoch 22/50\n",
      "60000/60000 [==============================] - 0s 7us/step - loss: 2.4118 - acc: 0.8464\n",
      "Epoch 23/50\n",
      "60000/60000 [==============================] - 0s 7us/step - loss: 2.4067 - acc: 0.8471\n",
      "Epoch 24/50\n",
      "60000/60000 [==============================] - 0s 7us/step - loss: 2.4066 - acc: 0.8467\n",
      "Epoch 25/50\n",
      "60000/60000 [==============================] - 0s 7us/step - loss: 2.3860 - acc: 0.8483\n",
      "Epoch 26/50\n",
      "60000/60000 [==============================] - 0s 7us/step - loss: 2.3975 - acc: 0.8471\n",
      "Epoch 27/50\n",
      "60000/60000 [==============================] - 0s 7us/step - loss: 2.3875 - acc: 0.8477\n",
      "Epoch 28/50\n",
      "60000/60000 [==============================] - 0s 7us/step - loss: 2.3778 - acc: 0.8485\n",
      "Epoch 29/50\n",
      "60000/60000 [==============================] - 0s 7us/step - loss: 2.3969 - acc: 0.8472\n",
      "Epoch 30/50\n",
      "60000/60000 [==============================] - 0s 7us/step - loss: 2.3605 - acc: 0.8496\n",
      "Epoch 31/50\n",
      "60000/60000 [==============================] - 0s 7us/step - loss: 2.3461 - acc: 0.8507\n",
      "Epoch 32/50\n",
      "60000/60000 [==============================] - 0s 7us/step - loss: 2.3485 - acc: 0.8508\n",
      "Epoch 33/50\n",
      "60000/60000 [==============================] - 0s 7us/step - loss: 2.3534 - acc: 0.8499\n",
      "Epoch 34/50\n",
      "60000/60000 [==============================] - 0s 7us/step - loss: 2.3411 - acc: 0.8508\n",
      "Epoch 35/50\n",
      "60000/60000 [==============================] - 0s 7us/step - loss: 2.3623 - acc: 0.8499\n",
      "Epoch 36/50\n",
      "60000/60000 [==============================] - 0s 7us/step - loss: 2.3437 - acc: 0.8508\n",
      "Epoch 37/50\n",
      "60000/60000 [==============================] - 0s 8us/step - loss: 2.3301 - acc: 0.8520\n",
      "Epoch 38/50\n",
      "60000/60000 [==============================] - 0s 7us/step - loss: 2.3284 - acc: 0.8522\n",
      "Epoch 39/50\n",
      "60000/60000 [==============================] - 0s 7us/step - loss: 2.3140 - acc: 0.8531\n",
      "Epoch 40/50\n",
      "60000/60000 [==============================] - 0s 7us/step - loss: 2.3056 - acc: 0.8536\n",
      "Epoch 41/50\n",
      "60000/60000 [==============================] - 0s 7us/step - loss: 2.2981 - acc: 0.8539\n",
      "Epoch 42/50\n",
      "60000/60000 [==============================] - 0s 7us/step - loss: 2.3064 - acc: 0.8532\n",
      "Epoch 43/50\n",
      "60000/60000 [==============================] - 0s 7us/step - loss: 2.3085 - acc: 0.8532\n",
      "Epoch 44/50\n",
      "60000/60000 [==============================] - 0s 7us/step - loss: 2.3122 - acc: 0.8532\n",
      "Epoch 45/50\n",
      "60000/60000 [==============================] - 0s 7us/step - loss: 2.3167 - acc: 0.8524\n",
      "Epoch 46/50\n",
      "60000/60000 [==============================] - 0s 7us/step - loss: 2.3059 - acc: 0.8534\n",
      "Epoch 47/50\n",
      "60000/60000 [==============================] - 0s 8us/step - loss: 2.2282 - acc: 0.8578\n",
      "Epoch 48/50\n",
      "60000/60000 [==============================] - 0s 7us/step - loss: 1.3755 - acc: 0.9089\n",
      "Epoch 49/50\n",
      "60000/60000 [==============================] - 0s 7us/step - loss: 1.1624 - acc: 0.9226\n",
      "Epoch 50/50\n",
      "60000/60000 [==============================] - 0s 7us/step - loss: 1.1276 - acc: 0.9251\n",
      "CPU times: user 18.3 s, sys: 2.27 s, total: 20.6 s\n",
      "Wall time: 22.9 s\n"
     ]
    }
   ],
   "source": [
    "%%time\n",
    "history = model.fit(x_train, y_train, epochs=50, batch_size=1000)"
   ]
  }
 ],
 "metadata": {
  "kernelspec": {
   "display_name": "Python [conda root]",
   "language": "python",
   "name": "conda-root-py"
  },
  "language_info": {
   "codemirror_mode": {
    "name": "ipython",
    "version": 3
   },
   "file_extension": ".py",
   "mimetype": "text/x-python",
   "name": "python",
   "nbconvert_exporter": "python",
   "pygments_lexer": "ipython3",
   "version": "3.5.3"
  }
 },
 "nbformat": 4,
 "nbformat_minor": 2
}
